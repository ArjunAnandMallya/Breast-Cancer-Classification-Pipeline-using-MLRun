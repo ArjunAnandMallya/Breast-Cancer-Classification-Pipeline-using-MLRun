{
 "cells": [
  {
   "cell_type": "code",
   "execution_count": 89,
   "id": "dd494ec0-c44d-4844-9588-12b8fd41dd89",
   "metadata": {},
   "outputs": [
    {
     "name": "stdout",
     "output_type": "stream",
     "text": [
      "Loading project 'lab9-new-2' from './'...\n",
      "> 2025-04-10 10:54:53,126 [info] Loading project from path: {\"path\":\"./\",\"project_name\":\"lab9-new-2\",\"user_project\":true}\n",
      "> 2025-04-10 10:54:53,163 [warning] Project name mismatch, lab9-new-1-jovyan != lab9-new-2-jovyan, project is loaded from lab9-new-1-jovyan project yaml. To prevent/allow this, you can take one of the following actions:\n",
      "1. Set the `allow_cross_project=True` when loading the project.\n",
      "2. Delete the existing project yaml, or ensure its name is equal to lab9-new-2-jovyan.\n",
      "3. Use different project context dir.\n",
      "> 2025-04-10 10:54:53,243 [info] Project loaded successfully: {\"path\":\"./\",\"project_name\":\"lab9-new-2-jovyan\",\"stored_in_db\":true}\n",
      "Project 'lab9-new-2-jovyan' loaded.\n"
     ]
    }
   ],
   "source": [
    "import mlrun\n",
    "import warnings\n",
    "warnings.filterwarnings(\"ignore\")\n",
    "\n",
    "# Set project name & path\n",
    "project_name = 'lab9-new-2'\n",
    "project_path = './'\n",
    "\n",
    "print(f\"Loading project '{project_name}' from '{project_path}'...\")\n",
    "\n",
    "# Load or create the project\n",
    "project = mlrun.get_or_create_project(\n",
    "    name=project_name,\n",
    "    context=project_path,\n",
    "    user_project=True\n",
    ")\n",
    "\n",
    "print(f\"Project '{project.name}' loaded.\")"
   ]
  },
  {
   "cell_type": "code",
   "execution_count": 90,
   "id": "583c5eee-7c76-49bc-81b5-fa5f834065ef",
   "metadata": {},
   "outputs": [
    {
     "name": "stdout",
     "output_type": "stream",
     "text": [
      "- Registered function: data_prep\n"
     ]
    }
   ],
   "source": [
    "project.set_function(\n",
    "    'Data_prep.py',\n",
    "    name='data_prep',\n",
    "    kind='job',\n",
    "    image='mlrun/mlrun',\n",
    "    handler='fetch_data'\n",
    ")\n",
    "print(\"- Registered function: data_prep\")"
   ]
  },
  {
   "cell_type": "code",
   "execution_count": 91,
   "id": "90f67f10-8ef0-4f4f-91c7-adf3dd559116",
   "metadata": {},
   "outputs": [
    {
     "name": "stdout",
     "output_type": "stream",
     "text": [
      "- Registered function: train\n"
     ]
    }
   ],
   "source": [
    "project.set_function(\n",
    "    'trainer.py',\n",
    "    name='train',\n",
    "    kind='job',\n",
    "    image='mlrun/mlrun',\n",
    "    handler='train_model'\n",
    ")\n",
    "print(\"- Registered function: train\")\n"
   ]
  },
  {
   "cell_type": "code",
   "execution_count": 92,
   "id": "30fab935-71ef-441e-b8ba-74e6eab543a5",
   "metadata": {},
   "outputs": [
    {
     "name": "stdout",
     "output_type": "stream",
     "text": [
      "- Registered function: serving\n"
     ]
    }
   ],
   "source": [
    "project.set_function(\n",
    "    'serving.py',\n",
    "    name='serving',\n",
    "    kind='serving',\n",
    "    image='mlrun/mlrun'\n",
    ")\n",
    "print(\"- Registered function: serving\")\n"
   ]
  },
  {
   "cell_type": "code",
   "execution_count": 93,
   "id": "3371b1bd-3b95-4f62-85a6-c592d1944a90",
   "metadata": {},
   "outputs": [
    {
     "name": "stdout",
     "output_type": "stream",
     "text": [
      "\n",
      "Workflow 'main_workflow' registered successfully.\n"
     ]
    }
   ],
   "source": [
    "project.set_workflow(\n",
    "    name='main_workflow',\n",
    "    workflow_path='workflow.py'\n",
    ")\n",
    "print(\"\\nWorkflow 'main_workflow' registered successfully.\")"
   ]
  },
  {
   "cell_type": "code",
   "execution_count": 94,
   "id": "00ca84a5-3c57-4d81-9320-52dbd1d3abef",
   "metadata": {},
   "outputs": [
    {
     "name": "stdout",
     "output_type": "stream",
     "text": [
      "> 2025-04-10 10:54:55,221 [warning] it is recommended to use k8s secret (specify secret_name), specifying the aws_access_key/aws_secret_key directly is unsafe\n",
      "> 2025-04-10 10:54:55,248 [warning] it is recommended to use k8s secret (specify secret_name), specifying the aws_access_key/aws_secret_key directly is unsafe\n",
      "> 2025-04-10 10:54:55,253 [warning] it is recommended to use k8s secret (specify secret_name), specifying the aws_access_key/aws_secret_key directly is unsafe\n",
      "> 2025-04-10 10:54:56,008 [info] Pipeline submitted successfully: {\"id\":\"13851079-aab2-4717-9862-0beeadf4f4b2\",\"pipeline_name\":\"lab9-new-2-jovyan-lab9-run-1 2025-04-10 10-54-55\"}\n",
      "> 2025-04-10 10:54:56,009 [info] Pipeline run id=13851079-aab2-4717-9862-0beeadf4f4b2, check UI for progress\n"
     ]
    },
    {
     "data": {
      "text/html": [
       "Workflow started in project lab9-new-2-jovyan id=13851079-aab2-4717-9862-0beeadf4f4b2<div><a href=\"http://localhost:30060/mlrun/projects/lab9-new-2-jovyan/jobs/monitor-workflows/workflow/13851079-aab2-4717-9862-0beeadf4f4b2\" target=\"_blank\">click here to view progress</a></div>"
      ],
      "text/plain": [
       "<IPython.core.display.HTML object>"
      ]
     },
     "metadata": {},
     "output_type": "display_data"
    },
    {
     "data": {
      "text/html": [
       "<div>Pipeline running (id=13851079-aab2-4717-9862-0beeadf4f4b2), <a href=\"http://localhost:30060/mlrun/projects/lab9-new-2-jovyan/jobs/monitor-workflows/workflow/13851079-aab2-4717-9862-0beeadf4f4b2\" target=\"_blank\"><b>click here</b></a> to view the details in MLRun UI</div>"
      ],
      "text/plain": [
       "<IPython.core.display.HTML object>"
      ]
     },
     "metadata": {},
     "output_type": "display_data"
    },
    {
     "data": {
      "image/svg+xml": [
       "<?xml version=\"1.0\" encoding=\"UTF-8\" standalone=\"no\"?>\n",
       "<!DOCTYPE svg PUBLIC \"-//W3C//DTD SVG 1.1//EN\"\n",
       " \"http://www.w3.org/Graphics/SVG/1.1/DTD/svg11.dtd\">\n",
       "<!-- Generated by graphviz version 2.43.0 (0)\n",
       " -->\n",
       "<!-- Title: kfp Pages: 1 -->\n",
       "<svg width=\"8pt\" height=\"8pt\"\n",
       " viewBox=\"0.00 0.00 8.00 8.00\" xmlns=\"http://www.w3.org/2000/svg\" xmlns:xlink=\"http://www.w3.org/1999/xlink\">\n",
       "<g id=\"graph0\" class=\"graph\" transform=\"scale(1 1) rotate(0) translate(4 4)\">\n",
       "<title>kfp</title>\n",
       "<polygon fill=\"white\" stroke=\"transparent\" points=\"-4,4 -4,-4 4,-4 4,4 -4,4\"/>\n",
       "</g>\n",
       "</svg>\n"
      ],
      "text/plain": [
       "<graphviz.graphs.Digraph at 0x7f383080b1f0>"
      ]
     },
     "metadata": {},
     "output_type": "display_data"
    },
    {
     "name": "stdout",
     "output_type": "stream",
     "text": [
      "> 2025-04-10 10:54:56,136 [info] Started run workflow lab9-new-2-jovyan-lab9-run-1 with run id = '13851079-aab2-4717-9862-0beeadf4f4b2' by kfp engine\n",
      "> 2025-04-10 10:54:56,137 [info] Waiting for pipeline run completion: {\"project\":\"lab9-new-2-jovyan\",\"run_id\":\"13851079-aab2-4717-9862-0beeadf4f4b2\"}\n"
     ]
    },
    {
     "data": {
      "image/svg+xml": [
       "<?xml version=\"1.0\" encoding=\"UTF-8\" standalone=\"no\"?>\n",
       "<!DOCTYPE svg PUBLIC \"-//W3C//DTD SVG 1.1//EN\"\n",
       " \"http://www.w3.org/Graphics/SVG/1.1/DTD/svg11.dtd\">\n",
       "<!-- Generated by graphviz version 2.43.0 (0)\n",
       " -->\n",
       "<!-- Title: kfp Pages: 1 -->\n",
       "<svg width=\"152pt\" height=\"188pt\"\n",
       " viewBox=\"0.00 0.00 152.29 188.00\" xmlns=\"http://www.w3.org/2000/svg\" xmlns:xlink=\"http://www.w3.org/1999/xlink\">\n",
       "<g id=\"graph0\" class=\"graph\" transform=\"scale(1 1) rotate(0) translate(4 184)\">\n",
       "<title>kfp</title>\n",
       "<polygon fill=\"white\" stroke=\"transparent\" points=\"-4,4 -4,-184 148.29,-184 148.29,4 -4,4\"/>\n",
       "<!-- breast&#45;cancer&#45;t89hb&#45;3406074441 -->\n",
       "<g id=\"node1\" class=\"node\">\n",
       "<title>breast&#45;cancer&#45;t89hb&#45;3406074441</title>\n",
       "<polygon fill=\"red\" stroke=\"black\" points=\"121.14,-36 27.14,-36 23.14,-32 23.14,0 117.14,0 121.14,-4 121.14,-36\"/>\n",
       "<polyline fill=\"none\" stroke=\"black\" points=\"117.14,-32 23.14,-32 \"/>\n",
       "<polyline fill=\"none\" stroke=\"black\" points=\"117.14,-32 117.14,0 \"/>\n",
       "<polyline fill=\"none\" stroke=\"black\" points=\"117.14,-32 121.14,-36 \"/>\n",
       "<text text-anchor=\"middle\" x=\"72.14\" y=\"-14.3\" font-family=\"Times,serif\" font-size=\"14.00\">deploy&#45;serving</text>\n",
       "</g>\n",
       "<!-- breast&#45;cancer&#45;t89hb&#45;489862893 -->\n",
       "<g id=\"node2\" class=\"node\">\n",
       "<title>breast&#45;cancer&#45;t89hb&#45;489862893</title>\n",
       "<ellipse fill=\"green\" stroke=\"black\" cx=\"72.14\" cy=\"-90\" rx=\"72.29\" ry=\"18\"/>\n",
       "<text text-anchor=\"middle\" x=\"72.14\" y=\"-86.3\" font-family=\"Times,serif\" font-size=\"14.00\">train&#45;hyperparam</text>\n",
       "</g>\n",
       "<!-- breast&#45;cancer&#45;t89hb&#45;489862893&#45;&gt;breast&#45;cancer&#45;t89hb&#45;3406074441 -->\n",
       "<g id=\"edge1\" class=\"edge\">\n",
       "<title>breast&#45;cancer&#45;t89hb&#45;489862893&#45;&gt;breast&#45;cancer&#45;t89hb&#45;3406074441</title>\n",
       "<path fill=\"none\" stroke=\"black\" d=\"M72.14,-71.7C72.14,-63.98 72.14,-54.71 72.14,-46.11\"/>\n",
       "<polygon fill=\"black\" stroke=\"black\" points=\"75.64,-46.1 72.14,-36.1 68.64,-46.1 75.64,-46.1\"/>\n",
       "</g>\n",
       "<!-- breast&#45;cancer&#45;t89hb&#45;577098904 -->\n",
       "<g id=\"node3\" class=\"node\">\n",
       "<title>breast&#45;cancer&#45;t89hb&#45;577098904</title>\n",
       "<ellipse fill=\"green\" stroke=\"black\" cx=\"72.14\" cy=\"-162\" rx=\"46.29\" ry=\"18\"/>\n",
       "<text text-anchor=\"middle\" x=\"72.14\" y=\"-158.3\" font-family=\"Times,serif\" font-size=\"14.00\">fetch&#45;data</text>\n",
       "</g>\n",
       "<!-- breast&#45;cancer&#45;t89hb&#45;577098904&#45;&gt;breast&#45;cancer&#45;t89hb&#45;489862893 -->\n",
       "<g id=\"edge2\" class=\"edge\">\n",
       "<title>breast&#45;cancer&#45;t89hb&#45;577098904&#45;&gt;breast&#45;cancer&#45;t89hb&#45;489862893</title>\n",
       "<path fill=\"none\" stroke=\"black\" d=\"M72.14,-143.7C72.14,-135.98 72.14,-126.71 72.14,-118.11\"/>\n",
       "<polygon fill=\"black\" stroke=\"black\" points=\"75.64,-118.1 72.14,-108.1 68.64,-118.1 75.64,-118.1\"/>\n",
       "</g>\n",
       "</g>\n",
       "</svg>\n"
      ],
      "text/plain": [
       "<graphviz.graphs.Digraph at 0x7f3806734160>"
      ]
     },
     "metadata": {},
     "output_type": "display_data"
    },
    {
     "data": {
      "text/html": [
       "<h2>Run Results</h2><h3>[info] Workflow 13851079-aab2-4717-9862-0beeadf4f4b2 finished, state=Unknown</h3><br>click the hyper links below to see detailed results<br><table border=\"1\" class=\"dataframe\">\n",
       "  <thead>\n",
       "    <tr style=\"text-align: right;\">\n",
       "      <th>uid</th>\n",
       "      <th>start</th>\n",
       "      <th>state</th>\n",
       "      <th>kind</th>\n",
       "      <th>name</th>\n",
       "      <th>parameters</th>\n",
       "      <th>results</th>\n",
       "    </tr>\n",
       "  </thead>\n",
       "  <tbody>\n",
       "    <tr>\n",
       "      <td><div title=\"ed309ee869ea49b1aa532f806c72e7b6\"><a href=\"http://localhost:30060/mlrun/projects/lab9-new-2-jovyan/jobs/monitor/ed309ee869ea49b1aa532f806c72e7b6/overview\" target=\"_blank\" >...6c72e7b6</a></div></td>\n",
       "      <td>Apr 10 10:55:41</td>\n",
       "      <td>completed</td>\n",
       "      <td>run</td>\n",
       "      <td>train-hyperparam</td>\n",
       "      <td><div class=\"dictlist\">label_column=target</div><div class=\"dictlist\">test_size=0.1</div><div class=\"dictlist\">model_name=cancer_rf_model</div></td>\n",
       "      <td></td>\n",
       "    </tr>\n",
       "    <tr>\n",
       "      <td><div title=\"405e878083e84438bda7809af2d3d6bc\"><a href=\"http://localhost:30060/mlrun/projects/lab9-new-2-jovyan/jobs/monitor/405e878083e84438bda7809af2d3d6bc/overview\" target=\"_blank\" >...f2d3d6bc</a></div></td>\n",
       "      <td>Apr 10 10:55:10</td>\n",
       "      <td>completed</td>\n",
       "      <td>run</td>\n",
       "      <td>fetch-data</td>\n",
       "      <td></td>\n",
       "      <td></td>\n",
       "    </tr>\n",
       "  </tbody>\n",
       "</table>"
      ],
      "text/plain": [
       "<IPython.core.display.HTML object>"
      ]
     },
     "metadata": {},
     "output_type": "display_data"
    },
    {
     "ename": "RuntimeError",
     "evalue": "Pipeline run status Failed",
     "output_type": "error",
     "traceback": [
      "\u001b[0;31m---------------------------------------------------------------------------\u001b[0m",
      "\u001b[0;31mRuntimeError\u001b[0m                              Traceback (most recent call last)",
      "Cell \u001b[0;32mIn[94], line 1\u001b[0m\n\u001b[0;32m----> 1\u001b[0m run \u001b[38;5;241m=\u001b[39m \u001b[43mproject\u001b[49m\u001b[38;5;241;43m.\u001b[39;49m\u001b[43mrun\u001b[49m\u001b[43m(\u001b[49m\n\u001b[1;32m      2\u001b[0m \u001b[43m    \u001b[49m\u001b[43mname\u001b[49m\u001b[38;5;241;43m=\u001b[39;49m\u001b[38;5;124;43m'\u001b[39;49m\u001b[38;5;124;43mlab9-run-1\u001b[39;49m\u001b[38;5;124;43m'\u001b[39;49m\u001b[43m,\u001b[49m\u001b[43m               \u001b[49m\n\u001b[1;32m      3\u001b[0m \u001b[43m    \u001b[49m\u001b[43mworkflow_path\u001b[49m\u001b[38;5;241;43m=\u001b[39;49m\u001b[38;5;124;43m'\u001b[39;49m\u001b[38;5;124;43mworkflow.py\u001b[39;49m\u001b[38;5;124;43m'\u001b[39;49m\u001b[43m,\u001b[49m\u001b[43m   \u001b[49m\n\u001b[1;32m      4\u001b[0m \u001b[43m    \u001b[49m\u001b[43marguments\u001b[49m\u001b[38;5;241;43m=\u001b[39;49m\u001b[43m{\u001b[49m\u001b[43m}\u001b[49m\u001b[43m,\u001b[49m\u001b[43m                  \u001b[49m\n\u001b[1;32m      5\u001b[0m \u001b[43m    \u001b[49m\u001b[43mwatch\u001b[49m\u001b[38;5;241;43m=\u001b[39;49m\u001b[38;5;28;43;01mTrue\u001b[39;49;00m\u001b[43m                     \u001b[49m\n\u001b[1;32m      6\u001b[0m \u001b[43m)\u001b[49m\n",
      "File \u001b[0;32m/opt/conda/lib/python3.9/site-packages/mlrun/projects/project.py:3225\u001b[0m, in \u001b[0;36mMlrunProject.run\u001b[0;34m(self, name, workflow_path, arguments, artifact_path, workflow_handler, namespace, sync, watch, dirty, engine, local, schedule, timeout, source, cleanup_ttl, notifications, workflow_runner_node_selector)\u001b[0m\n\u001b[1;32m   3222\u001b[0m         status_engine \u001b[38;5;241m=\u001b[39m _RemoteRunner\n\u001b[1;32m   3223\u001b[0m         run_status_kwargs[\u001b[38;5;124m\"\u001b[39m\u001b[38;5;124minner_engine\u001b[39m\u001b[38;5;124m\"\u001b[39m] \u001b[38;5;241m=\u001b[39m run\u001b[38;5;241m.\u001b[39m_engine\n\u001b[0;32m-> 3225\u001b[0m     \u001b[43mstatus_engine\u001b[49m\u001b[38;5;241;43m.\u001b[39;49m\u001b[43mget_run_status\u001b[49m\u001b[43m(\u001b[49m\n\u001b[1;32m   3226\u001b[0m \u001b[43m        \u001b[49m\u001b[43mproject\u001b[49m\u001b[38;5;241;43m=\u001b[39;49m\u001b[38;5;28;43mself\u001b[39;49m\u001b[43m,\u001b[49m\u001b[43m \u001b[49m\u001b[43mrun\u001b[49m\u001b[38;5;241;43m=\u001b[39;49m\u001b[43mrun\u001b[49m\u001b[43m,\u001b[49m\u001b[43m \u001b[49m\u001b[43mtimeout\u001b[49m\u001b[38;5;241;43m=\u001b[39;49m\u001b[43mtimeout\u001b[49m\u001b[43m,\u001b[49m\u001b[43m \u001b[49m\u001b[38;5;241;43m*\u001b[39;49m\u001b[38;5;241;43m*\u001b[39;49m\u001b[43mrun_status_kwargs\u001b[49m\n\u001b[1;32m   3227\u001b[0m \u001b[43m    \u001b[49m\u001b[43m)\u001b[49m\n\u001b[1;32m   3228\u001b[0m \u001b[38;5;28;01mreturn\u001b[39;00m run\n",
      "File \u001b[0;32m/opt/conda/lib/python3.9/site-packages/mlrun/projects/pipelines.py:514\u001b[0m, in \u001b[0;36m_PipelineRunner.get_run_status\u001b[0;34m(project, run, timeout, expected_statuses, notifiers, **kwargs)\u001b[0m\n\u001b[1;32m    511\u001b[0m     notifiers\u001b[38;5;241m.\u001b[39mpush(text, \u001b[38;5;124m\"\u001b[39m\u001b[38;5;124minfo\u001b[39m\u001b[38;5;124m\"\u001b[39m, runs)\n\u001b[1;32m    513\u001b[0m \u001b[38;5;28;01mif\u001b[39;00m raise_error:\n\u001b[0;32m--> 514\u001b[0m     \u001b[38;5;28;01mraise\u001b[39;00m raise_error\n\u001b[1;32m    515\u001b[0m \u001b[38;5;28;01mreturn\u001b[39;00m state \u001b[38;5;129;01mor\u001b[39;00m run\u001b[38;5;241m.\u001b[39m_state, errors_counter, text\n",
      "File \u001b[0;32m/opt/conda/lib/python3.9/site-packages/mlrun/projects/pipelines.py:489\u001b[0m, in \u001b[0;36m_PipelineRunner.get_run_status\u001b[0;34m(project, run, timeout, expected_statuses, notifiers, **kwargs)\u001b[0m\n\u001b[1;32m    487\u001b[0m \u001b[38;5;28;01mtry\u001b[39;00m:\n\u001b[1;32m    488\u001b[0m     \u001b[38;5;28;01mif\u001b[39;00m timeout:\n\u001b[0;32m--> 489\u001b[0m         state \u001b[38;5;241m=\u001b[39m \u001b[43mrun\u001b[49m\u001b[38;5;241;43m.\u001b[39;49m\u001b[43mwait_for_completion\u001b[49m\u001b[43m(\u001b[49m\n\u001b[1;32m    490\u001b[0m \u001b[43m            \u001b[49m\u001b[43mtimeout\u001b[49m\u001b[38;5;241;43m=\u001b[39;49m\u001b[43mtimeout\u001b[49m\u001b[43m,\u001b[49m\u001b[43m \u001b[49m\u001b[43mexpected_statuses\u001b[49m\u001b[38;5;241;43m=\u001b[39;49m\u001b[43mexpected_statuses\u001b[49m\n\u001b[1;32m    491\u001b[0m \u001b[43m        \u001b[49m\u001b[43m)\u001b[49m\n\u001b[1;32m    492\u001b[0m \u001b[38;5;28;01mexcept\u001b[39;00m \u001b[38;5;167;01mRuntimeError\u001b[39;00m \u001b[38;5;28;01mas\u001b[39;00m exc:\n\u001b[1;32m    493\u001b[0m     \u001b[38;5;66;03m# push runs table also when we have errors\u001b[39;00m\n\u001b[1;32m    494\u001b[0m     raise_error \u001b[38;5;241m=\u001b[39m exc\n",
      "File \u001b[0;32m/opt/conda/lib/python3.9/site-packages/mlrun/projects/pipelines.py:414\u001b[0m, in \u001b[0;36m_PipelineRunStatus.wait_for_completion\u001b[0;34m(self, timeout, expected_statuses)\u001b[0m\n\u001b[1;32m    413\u001b[0m \u001b[38;5;28;01mdef\u001b[39;00m\u001b[38;5;250m \u001b[39m\u001b[38;5;21mwait_for_completion\u001b[39m(\u001b[38;5;28mself\u001b[39m, timeout\u001b[38;5;241m=\u001b[39m\u001b[38;5;28;01mNone\u001b[39;00m, expected_statuses\u001b[38;5;241m=\u001b[39m\u001b[38;5;28;01mNone\u001b[39;00m):\n\u001b[0;32m--> 414\u001b[0m     returned_state \u001b[38;5;241m=\u001b[39m \u001b[38;5;28;43mself\u001b[39;49m\u001b[38;5;241;43m.\u001b[39;49m\u001b[43m_engine\u001b[49m\u001b[38;5;241;43m.\u001b[39;49m\u001b[43mwait_for_completion\u001b[49m\u001b[43m(\u001b[49m\n\u001b[1;32m    415\u001b[0m \u001b[43m        \u001b[49m\u001b[38;5;28;43mself\u001b[39;49m\u001b[43m,\u001b[49m\n\u001b[1;32m    416\u001b[0m \u001b[43m        \u001b[49m\u001b[43mproject\u001b[49m\u001b[38;5;241;43m=\u001b[39;49m\u001b[38;5;28;43mself\u001b[39;49m\u001b[38;5;241;43m.\u001b[39;49m\u001b[43mproject\u001b[49m\u001b[43m,\u001b[49m\n\u001b[1;32m    417\u001b[0m \u001b[43m        \u001b[49m\u001b[43mtimeout\u001b[49m\u001b[38;5;241;43m=\u001b[39;49m\u001b[43mtimeout\u001b[49m\u001b[43m,\u001b[49m\n\u001b[1;32m    418\u001b[0m \u001b[43m        \u001b[49m\u001b[43mexpected_statuses\u001b[49m\u001b[38;5;241;43m=\u001b[39;49m\u001b[43mexpected_statuses\u001b[49m\u001b[43m,\u001b[49m\n\u001b[1;32m    419\u001b[0m \u001b[43m    \u001b[49m\u001b[43m)\u001b[49m\n\u001b[1;32m    420\u001b[0m     \u001b[38;5;66;03m# TODO: returning a state is optional until all runners implement wait_for_completion\u001b[39;00m\n\u001b[1;32m    421\u001b[0m     \u001b[38;5;28;01mif\u001b[39;00m returned_state:\n",
      "File \u001b[0;32m/opt/conda/lib/python3.9/site-packages/mlrun/projects/pipelines.py:653\u001b[0m, in \u001b[0;36m_KFPRunner.wait_for_completion\u001b[0;34m(run, project, timeout, expected_statuses)\u001b[0m\n\u001b[1;32m    647\u001b[0m logger\u001b[38;5;241m.\u001b[39minfo(\n\u001b[1;32m    648\u001b[0m     \u001b[38;5;124m\"\u001b[39m\u001b[38;5;124mWaiting for pipeline run completion\u001b[39m\u001b[38;5;124m\"\u001b[39m,\n\u001b[1;32m    649\u001b[0m     run_id\u001b[38;5;241m=\u001b[39mrun\u001b[38;5;241m.\u001b[39mrun_id,\n\u001b[1;32m    650\u001b[0m     project\u001b[38;5;241m=\u001b[39mproject_name,\n\u001b[1;32m    651\u001b[0m )\n\u001b[1;32m    652\u001b[0m timeout \u001b[38;5;241m=\u001b[39m timeout \u001b[38;5;129;01mor\u001b[39;00m \u001b[38;5;241m60\u001b[39m \u001b[38;5;241m*\u001b[39m \u001b[38;5;241m60\u001b[39m\n\u001b[0;32m--> 653\u001b[0m run_info \u001b[38;5;241m=\u001b[39m \u001b[43mwait_for_pipeline_completion\u001b[49m\u001b[43m(\u001b[49m\n\u001b[1;32m    654\u001b[0m \u001b[43m    \u001b[49m\u001b[43mrun\u001b[49m\u001b[38;5;241;43m.\u001b[39;49m\u001b[43mrun_id\u001b[49m\u001b[43m,\u001b[49m\n\u001b[1;32m    655\u001b[0m \u001b[43m    \u001b[49m\u001b[43mtimeout\u001b[49m\u001b[38;5;241;43m=\u001b[39;49m\u001b[43mtimeout\u001b[49m\u001b[43m,\u001b[49m\n\u001b[1;32m    656\u001b[0m \u001b[43m    \u001b[49m\u001b[43mexpected_statuses\u001b[49m\u001b[38;5;241;43m=\u001b[39;49m\u001b[43mexpected_statuses\u001b[49m\u001b[43m,\u001b[49m\n\u001b[1;32m    657\u001b[0m \u001b[43m    \u001b[49m\u001b[43mproject\u001b[49m\u001b[38;5;241;43m=\u001b[39;49m\u001b[43mproject_name\u001b[49m\u001b[43m,\u001b[49m\n\u001b[1;32m    658\u001b[0m \u001b[43m\u001b[49m\u001b[43m)\u001b[49m\n\u001b[1;32m    659\u001b[0m status \u001b[38;5;241m=\u001b[39m \u001b[38;5;124m\"\u001b[39m\u001b[38;5;124m\"\u001b[39m\n\u001b[1;32m    660\u001b[0m \u001b[38;5;28;01mif\u001b[39;00m run_info:\n",
      "File \u001b[0;32m/opt/conda/lib/python3.9/site-packages/mlrun/run.py:986\u001b[0m, in \u001b[0;36mwait_for_pipeline_completion\u001b[0;34m(run_id, timeout, expected_statuses, namespace, remote, project)\u001b[0m\n\u001b[1;32m    984\u001b[0m \u001b[38;5;28;01mif\u001b[39;00m expected_statuses:\n\u001b[1;32m    985\u001b[0m     \u001b[38;5;28;01mif\u001b[39;00m status \u001b[38;5;129;01mnot\u001b[39;00m \u001b[38;5;129;01min\u001b[39;00m expected_statuses:\n\u001b[0;32m--> 986\u001b[0m         \u001b[38;5;28;01mraise\u001b[39;00m \u001b[38;5;167;01mRuntimeError\u001b[39;00m(\n\u001b[1;32m    987\u001b[0m             \u001b[38;5;124mf\u001b[39m\u001b[38;5;124m\"\u001b[39m\u001b[38;5;124mPipeline run status \u001b[39m\u001b[38;5;132;01m{\u001b[39;00mstatus\u001b[38;5;132;01m}\u001b[39;00m\u001b[38;5;132;01m{\u001b[39;00m\u001b[38;5;124m'\u001b[39m\u001b[38;5;124m, \u001b[39m\u001b[38;5;124m'\u001b[39m\u001b[38;5;250m \u001b[39m\u001b[38;5;241m+\u001b[39m\u001b[38;5;250m \u001b[39mmessage\u001b[38;5;250m \u001b[39m\u001b[38;5;28;01mif\u001b[39;00m\u001b[38;5;250m \u001b[39mmessage\u001b[38;5;250m \u001b[39m\u001b[38;5;28;01melse\u001b[39;00m\u001b[38;5;250m \u001b[39m\u001b[38;5;124m'\u001b[39m\u001b[38;5;124m'\u001b[39m\u001b[38;5;132;01m}\u001b[39;00m\u001b[38;5;124m\"\u001b[39m\n\u001b[1;32m    988\u001b[0m         )\n\u001b[1;32m    990\u001b[0m logger\u001b[38;5;241m.\u001b[39mdebug(\n\u001b[1;32m    991\u001b[0m     \u001b[38;5;124mf\u001b[39m\u001b[38;5;124m\"\u001b[39m\u001b[38;5;124mFinished waiting for pipeline completion.\u001b[39m\u001b[38;5;124m\"\u001b[39m\n\u001b[1;32m    992\u001b[0m     \u001b[38;5;124mf\u001b[39m\u001b[38;5;124m\"\u001b[39m\u001b[38;5;124m run_id: \u001b[39m\u001b[38;5;132;01m{\u001b[39;00mrun_id\u001b[38;5;132;01m}\u001b[39;00m\u001b[38;5;124m,\u001b[39m\u001b[38;5;124m\"\u001b[39m\n\u001b[0;32m   (...)\u001b[0m\n\u001b[1;32m    995\u001b[0m     \u001b[38;5;124mf\u001b[39m\u001b[38;5;124m\"\u001b[39m\u001b[38;5;124m namespace: \u001b[39m\u001b[38;5;132;01m{\u001b[39;00mnamespace\u001b[38;5;132;01m}\u001b[39;00m\u001b[38;5;124m\"\u001b[39m\n\u001b[1;32m    996\u001b[0m )\n\u001b[1;32m    998\u001b[0m \u001b[38;5;28;01mreturn\u001b[39;00m resp\n",
      "\u001b[0;31mRuntimeError\u001b[0m: Pipeline run status Failed"
     ]
    }
   ],
   "source": [
    "run = project.run(\n",
    "    name='lab9-run-1',               \n",
    "    workflow_path='workflow.py',   \n",
    "    arguments={},                  \n",
    "    watch=True                     \n",
    ")"
   ]
  },
  {
   "cell_type": "code",
   "execution_count": null,
   "id": "d0d5d7c5-1bdb-46ca-9be5-06a273dc18f6",
   "metadata": {},
   "outputs": [],
   "source": [
    "# Get the trained model path from the run\n",
    "model_path = run.outputs['model']\n",
    "\n",
    "# Load serving function object\n",
    "serving_fn = project.get_function('serving')\n",
    "\n",
    "# Attach the model\n",
    "serving_fn.add_model(\n",
    "    key='cancer_rf_model',\n",
    "    model_path=model_path\n",
    ")\n",
    "\n",
    "# Now deploy\n",
    "project.deploy_function('serving')\n"
   ]
  },
  {
   "cell_type": "code",
   "execution_count": null,
   "id": "c60cc31d-2df2-4db6-8246-e2c331de2898",
   "metadata": {},
   "outputs": [],
   "source": []
  }
 ],
 "metadata": {
  "kernelspec": {
   "display_name": "Python 3 (ipykernel)",
   "language": "python",
   "name": "python3"
  },
  "language_info": {
   "codemirror_mode": {
    "name": "ipython",
    "version": 3
   },
   "file_extension": ".py",
   "mimetype": "text/x-python",
   "name": "python",
   "nbconvert_exporter": "python",
   "pygments_lexer": "ipython3",
   "version": "3.9.13"
  }
 },
 "nbformat": 4,
 "nbformat_minor": 5
}
